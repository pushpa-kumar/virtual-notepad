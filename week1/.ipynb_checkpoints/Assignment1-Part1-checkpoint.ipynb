{
 "cells": [
  {
   "cell_type": "markdown",
   "metadata": {},
   "source": [
    "## Assignment 1 Part 1"
   ]
  },
  {
   "cell_type": "code",
   "execution_count": 10,
   "metadata": {},
   "outputs": [
    {
     "name": "stdin",
     "output_type": "stream",
     "text": [
      "Enter value of n: 5\n"
     ]
    },
    {
     "name": "stdout",
     "output_type": "stream",
     "text": [
      "n = 5.0\n"
     ]
    }
   ],
   "source": [
    "# Take value of n (dtype = float) as an input from user and print it \n",
    "n=float(input(\"Enter value of n:\"))\n",
    "print(f\"n = {n}\")"
   ]
  },
  {
   "cell_type": "code",
   "execution_count": 2,
   "metadata": {},
   "outputs": [
    {
     "name": "stdout",
     "output_type": "stream",
     "text": [
      "n=5.0 is an integer\n",
      "n=5.0 is odd\n"
     ]
    }
   ],
   "source": [
    "# Check if the input value is integer or not\n",
    "# If not integer then keep on taking the values from user until the input value is integer\n",
    "# And check whether the integral input value is even or odd\n",
    "\n",
    "while True:\n",
    "    if(int(n)==n):\n",
    "        print(f\"n={n} is an integer\")\n",
    "        break\n",
    "    else:\n",
    "        print(f\"n={n} is not an integer\")\n",
    "        n=float(input(\"Enter value of n:\"))\n",
    "        continue\n",
    "#at this point n must be integer\n",
    "\n",
    "if n%2 == 0:\n",
    "    print(f\"n={n} is even\")\n",
    "else:\n",
    "    print(f\"n={n} is odd\")"
   ]
  },
  {
   "cell_type": "code",
   "execution_count": 4,
   "metadata": {},
   "outputs": [
    {
     "name": "stdout",
     "output_type": "stream",
     "text": [
      "After each input press enter\n"
     ]
    },
    {
     "name": "stdin",
     "output_type": "stream",
     "text": [
      " 90\n",
      " 69\n",
      " 0\n",
      " -1\n",
      " -3\n",
      " 4\n",
      " 2\n",
      " 3\n",
      " 7\n",
      " 406\n",
      " 11\n",
      " -12\n",
      " -3\n",
      " 43\n",
      " 33\n",
      " 7\n",
      " 7\n",
      " -1\n",
      " -9\n",
      " -100\n",
      " 100\n",
      " 62\n",
      " 2\n",
      " 1\n",
      " 11\n"
     ]
    }
   ],
   "source": [
    "# Define an array and take its elements as input\n",
    "import numpy as np\n",
    "\n",
    "n =int(n)\n",
    "\n",
    "print( \"After each input press enter\")\n",
    "temp_list=[]\n",
    "for i in range(n*n):\n",
    "    x=int(input())\n",
    "    temp_list.append(x)\n",
    "\n",
    "arr = np.array(temp_list).reshape(n,n)\n",
    "# print(arr)\n",
    "\n",
    "\n",
    "\n",
    "\n",
    "\n",
    "\n"
   ]
  },
  {
   "cell_type": "markdown",
   "metadata": {},
   "source": [
    "A matrix is said to be **diagonally dominant** provided the\n",
    "magnitude of the diagonal element of each row is larger than\n",
    "the sum of the magnitudes of the off-diagonal elemets of that\n",
    "row"
   ]
  },
  {
   "cell_type": "code",
   "execution_count": 6,
   "metadata": {},
   "outputs": [
    {
     "name": "stdout",
     "output_type": "stream",
     "text": [
      "Original matrix: \n",
      "[[  90   69    0   -1   -3]\n",
      " [   4  406    3    7    2]\n",
      " [  11  -12   43   -3   33]\n",
      " [   7    7   -1 -100   -9]\n",
      " [  11   62    2    1  100]]\n",
      "____________________________________________________________________________________________________ \n",
      "\n",
      "____________________________________________________________________________________________________ \n",
      "\n",
      "Matrix obtained is: \n",
      "[[  90   69    0   -1   -3]\n",
      " [   4  406    3    7    2]\n",
      " [  11  -12   43   -3   33]\n",
      " [   7    7   -1 -100   -9]\n",
      " [  11   62    2    1  100]]\n"
     ]
    }
   ],
   "source": [
    "# Implement a function on the matrix\n",
    "# Function should make each row's diagonal element to be maximum in its row irrespective of sign\n",
    "# Output the matrix and intermediate steps\n",
    "\n",
    "def diagonallyDominant(arr, verbose=False):\n",
    "    n = arr.shape[0]\n",
    "    for i in range(n):\n",
    "        arr2=arr[i]\n",
    "        abs_arr2=np.abs(arr2)\n",
    "        max=np.max(abs_arr2)\n",
    "        indices=np.where(abs_arr2==max)\n",
    "        palce=indices[0][0]\n",
    "        if(arr2[i]<max):\n",
    "            arr2[i],arr2[palce]=arr2[palce],arr2[i]\n",
    "          \n",
    "    return arr\n",
    "\n",
    "print(\"Original matrix: \")\n",
    "print(arr)\n",
    "print(\"_\"*100,\"\\n\")\n",
    "\n",
    "A = diagonallyDominant(arr, verbose=True)\n",
    "print(\"_\"*100,\"\\n\")\n",
    "\n",
    "print(\"Matrix obtained is: \")\n",
    "print(A)\n"
   ]
  },
  {
   "cell_type": "code",
   "execution_count": 15,
   "metadata": {},
   "outputs": [
    {
     "name": "stdout",
     "output_type": "stream",
     "text": [
      "[[  90   69    0   -1   -3]\n",
      " [   4  406    3    7    2]\n",
      " [  11  -12   43   -3   33]\n",
      " [   7    7   -1 -100   -9]\n",
      " [  11   62    2    1  100]] \n",
      " is not diagonally dominant\n"
     ]
    }
   ],
   "source": [
    "## Check the changed matrix (matrix obatined above) is diagonally dominant or not?\n",
    "\n",
    "arr = A\n",
    "dominant=True\n",
    "fails_at=[]\n",
    "diaognal_elements=[]\n",
    "for i in range(int(n)):\n",
    "    arr2=arr[i]\n",
    "    abs_arr2=np.abs(arr2)\n",
    "    max=np.max(abs_arr2)\n",
    "    indices=np.where(abs_arr2==max)\n",
    "    place=indices[0][0]\n",
    "    diaognal_elements.append(arr2[place])\n",
    "    sum=np.sum(abs_arr2)-abs_arr2[place]\n",
    "    if(sum>max):\n",
    "        dominant=False\n",
    "        fails_at.append(i)\n",
    "if dominant:\n",
    "  print(f\"{A} is diagonally dominant\")\n",
    "  \n",
    "else :\n",
    "  print(f\"{A} \\n is not diagonally dominant\")\n",
    "\n",
    "\n",
    "  \n"
   ]
  },
  {
   "cell_type": "code",
   "execution_count": 9,
   "metadata": {},
   "outputs": [
    {
     "name": "stdout",
     "output_type": "stream",
     "text": [
      "[2]\n"
     ]
    }
   ],
   "source": [
    "# Check which row creates the problem if the matrix is not diagonally dominant\n",
    "# And print that row indexes with elements\n",
    "\n",
    "print(fails_at)\n",
    "\n"
   ]
  },
  {
   "cell_type": "code",
   "execution_count": 11,
   "metadata": {},
   "outputs": [
    {
     "data": {
      "image/png": "[encoded data removed]",
      "text/plain": [
       "<Figure size 640x480 with 1 Axes>"
      ]
     },
     "metadata": {},
     "output_type": "display_data"
    },
    {
     "data": {
      "image/png": "[encoded data removed]",
      "text/plain": [
       "<Figure size 640x480 with 1 Axes>"
      ]
     },
     "metadata": {},
     "output_type": "display_data"
    }
   ],
   "source": [
    "from matplotlib import pyplot as plt\n",
    "import math\n",
    "\n",
    "# Plot relu on different graph and sigmoid and tanh activations on same plots from -100 to 100\n",
    "# just read about their definations as of now\n",
    "\n",
    "x = np.linspace(-100,100, 10000)\n",
    "y_relu = []\n",
    "y_sigmoid = []\n",
    "y_tanh = []\n",
    "for i in x:\n",
    "    if(i>0):\n",
    "        y_relu.append(i)\n",
    "    else:\n",
    "        y_relu.append(0)\n",
    "\n",
    "\n",
    "plt.plot(x,y_relu)\n",
    "plt.show()\n",
    "\n",
    "def sigmoid(x):\n",
    "    return 1/(1+np.exp(-x))\n",
    "\n",
    "for i in x:\n",
    "    y_sigmoid.append(sigmoid(i))\n",
    "    y_tanh.append(np.tanh(i))\n",
    "\n",
    "plt.plot(x,y_sigmoid)\n",
    "plt.plot(x,y_tanh)\n",
    "plt.show()\n"
   ]
  },
  {
   "cell_type": "code",
   "execution_count": 23,
   "metadata": {},
   "outputs": [
    {
     "data": {
      "image/png": "[encoded data removed]",
      "text/plain": [
       "<Figure size 640x480 with 1 Axes>"
      ]
     },
     "metadata": {},
     "output_type": "display_data"
    }
   ],
   "source": [
    "# Plot all the diagonal elements against there ReLu, Sigmoid adn tanh activations on same plot\n",
    "\n",
    "x = diaognal_elements\n",
    "y_relu = []\n",
    "y_sigmoid = []\n",
    "y_tanh = []\n",
    "\n",
    "for i in x:\n",
    "    if(i>0):\n",
    "        y_relu.append(i)\n",
    "    else:\n",
    "        y_relu.append(0)\n",
    "for i in x:\n",
    "    y_sigmoid.append(sigmoid(i))\n",
    "    y_tanh.append(np.tanh(i))\n",
    "\n",
    "plt.plot(x,y_relu,'o')\n",
    "plt.plot(x,y_sigmoid,'o')\n",
    "plt.plot(x,y_tanh,'*')\n",
    "plt.show()\n",
    "\n",
    "\n",
    "\n",
    "\n",
    "\n",
    "\n",
    "\n",
    "\n",
    "\n",
    "\n",
    "\n",
    "\n",
    "\n",
    "\n"
   ]
  },
  {
   "cell_type": "code",
   "execution_count": 26,
   "metadata": {},
   "outputs": [
    {
     "name": "stdout",
     "output_type": "stream",
     "text": [
      "Softmax of the diagonal elements of the matrix :\n",
      " [5.79353612e-138 1.00000000e+000 2.24441452e-158 1.76600593e-220\n",
      " 1.27611125e-133]\n"
     ]
    }
   ],
   "source": [
    "# Read about softmax function's defination / formula\n",
    "# Define and Implement  softmax function on diagonal elements of the matrix\n",
    "\n",
    "def softmax(arr):\n",
    "  n = arr.shape[0]\n",
    "  dd = np.array(diaognal_elements)\n",
    "  \n",
    "  for i in range(n):\n",
    "      exp_i=np.exp(dd-np.max(dd))\n",
    "      sum_i=np.sum(exp_i)\n",
    "         \n",
    "  return exp_i/sum_i\n",
    "\n",
    "print(\"Softmax of the diagonal elements of the matrix :\\n\", softmax(arr))"
   ]
  },
  {
   "cell_type": "code",
   "execution_count": 28,
   "metadata": {},
   "outputs": [
    {
     "data": {
      "image/png": "[encoded data removed]",
      "text/plain": [
       "<Figure size 640x480 with 1 Axes>"
      ]
     },
     "metadata": {},
     "output_type": "display_data"
    }
   ],
   "source": [
    "# Plot softmax of the diagonal elements against the diagonal elements\n",
    "\n",
    "y=np.array(diaognal_elements)\n",
    "x=np.array(softmax(y))\n",
    "plt.plot(x,y,'o')\n",
    "plt.show()\n",
    "\n",
    "\n",
    "\n",
    "\n",
    "\n",
    "\n"
   ]
  },
  {
   "cell_type": "code",
   "execution_count": 35,
   "metadata": {},
   "outputs": [
    {
     "name": "stdout",
     "output_type": "stream",
     "text": [
      "90 : Not a max element in all diagonal elements\n",
      "406 : Max element in all diagonal elements\n",
      "43 : Not a max element in all diagonal elements\n",
      "-100 : Not a max element in all diagonal elements\n",
      "100 : Not a max element in all diagonal elements\n"
     ]
    }
   ],
   "source": [
    "# usinf softmax and diagonal elements try to find out the max element\n",
    "# you are not allowed to use max function\n",
    "# to find index of max element you can use \"argmax()\" function\n",
    "\n",
    "index=np.argmax(x)\n",
    "for i in range(int(n)):\n",
    "    if i==index:\n",
    "        print(f\"{y[i]} : Max element in all diagonal elements\" )\n",
    "    else:\n",
    "        print(f\"{y[i]} : Not a max element in all diagonal elements\" )\n",
    "\n",
    "\n",
    "\n",
    "\n",
    "\n",
    "\n",
    "\n"
   ]
  },
  {
   "cell_type": "markdown",
   "metadata": {},
   "source": [
    "What Conclusion could you draw from softmax function?\n",
    "\n",
    "\n",
    "\n",
    "\n",
    "\n"
   ]
  }
 ],
 "metadata": {
  "kernelspec": {
   "display_name": "Python 3 (ipykernel)",
   "language": "python",
   "name": "python3"
  },
  "language_info": {
   "codemirror_mode": {
    "name": "ipython",
    "version": 3
   },
   "file_extension": ".py",
   "mimetype": "text/x-python",
   "name": "python",
   "nbconvert_exporter": "python",
   "pygments_lexer": "ipython3",
   "version": "3.10.14"
  }
 },
 "nbformat": 4,
 "nbformat_minor": 4
}
